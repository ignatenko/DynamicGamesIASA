{
  "nbformat": 4,
  "nbformat_minor": 0,
  "metadata": {
    "colab": {
      "name": "Lecture2.ipynb",
      "provenance": [],
      "collapsed_sections": [],
      "authorship_tag": "ABX9TyPRVG1utHMvVEt4oJGKH2J2",
      "include_colab_link": true
    },
    "kernelspec": {
      "name": "python3",
      "display_name": "Python 3"
    }
  },
  "cells": [
    {
      "cell_type": "markdown",
      "metadata": {
        "id": "view-in-github",
        "colab_type": "text"
      },
      "source": [
        "<a href=\"https://colab.research.google.com/github/ignatenko/DynamicGamesIASA/blob/master/Lecture2.ipynb\" target=\"_parent\"><img src=\"https://colab.research.google.com/assets/colab-badge.svg\" alt=\"Open In Colab\"/></a>"
      ]
    },
    {
      "cell_type": "markdown",
      "metadata": {
        "id": "_JpKJvLk6DXx",
        "colab_type": "text"
      },
      "source": [
        "# Теорія ігор в комп'ютерних науках. Лекція 2.\n"
      ]
    },
    {
      "cell_type": "markdown",
      "metadata": {
        "colab_type": "text",
        "id": "QzxuG_4t8I9Q"
      },
      "source": [
        "\n",
        "## Складні системи і моделювання\n",
        "\n",
        "Складні системи це мережі, що складається з компонентів зв'язаних між собою (як правило нелінійно). Складні системи можуть виникати і еволюціонувати через самоорганізацію, тому вони не є ні повністю упорядкованими ні повністю випадковими, що допускає розвиток емерджентності на макроскопічному рівні.\n",
        "**Hiroki Sayama**\n",
        "\n",
        "## Приклади складних систем: \n",
        "\n",
        "---\n",
        "\n",
        "    - кліматична система Землі\n",
        "    - мозок\n",
        "    - екологічні ніші\n",
        "    - соціальні мережі\n",
        "    - Інтернет\n",
        " \n",
        " їх поведінку важко розуміти внаслідок залежностей та (нетривіальних) нелінійних взаємозв'язків між окремими частинами.\n",
        "\n",
        " ![Перша мапа Інтернету](/images/internet-1973.jpg)\n",
        "\n",
        "![Одна з нещодавних візуалізацій](/images/internet_map.jpg)"
      ]
    },
    {
      "cell_type": "markdown",
      "metadata": {
        "id": "DhD1FoHji51d",
        "colab_type": "text"
      },
      "source": [
        "## Чому ми моделюємо.\n",
        "\n",
        ">  Why Model? Journal of Artificial Societies and Social Simulation vol. 11, no. 4 12. Joshua Epstein\n",
        "\n",
        "Передбачення (прогнозування) не завжди є основною метою моделювання.\n",
        "Одна з цікавих думок - моделювання є способом мислення, тобто коли ми уявляємо якусь проблему і її розв'язок, ми вже неявно моделюємо.\n",
        "\n",
        "> \"The choice, then, is not whether to build models; it's whether to build explicit ones. In explicit models, assumptions are laid out in detail, so we can study exactly what they entail. On these assumptions, this sort of thing happens. When you alter the assumptions that is what happens. By writing explicit models, you let others replicate your results.\"\n",
        "\n",
        "Епштейн пропонує такий набір цілей моделювання (деякі з них)\n",
        "\n",
        "1. Пояснення внутрішніх процесів\n",
        "2. Вказувати на напрямки збору даних\n",
        "3. Пропонувати можливі опції та їх вартість\n",
        "4. Демонструвати суть процесу\n",
        "5. Стимулювати пошук аналогій\n",
        "6. Відкривати нові наукові питання\n",
        "7. Розвивати наукового мислення\n",
        "8. Тренування, навчання\n",
        "9. Дослідження границь застосовності моделі\n",
        "10. Популяризація науки\n",
        "11. Генерувати нові виклики існуючим теоріям \n",
        "12. Відкривати просте (складне) в складному (простому)"
      ]
    },
    {
      "cell_type": "markdown",
      "metadata": {
        "id": "hTXocKCOi_ge",
        "colab_type": "text"
      },
      "source": [
        "## Приклад. Задача Дейкстри.\n",
        "\n",
        "Едсгер Дейкстра один з піонерів комп'ютерних наук. Для ілюстрації своєї тези про перевірку правильності програм він запропонував наступну гру. Взагалі ідея Дейкстри про необхідність математики для перевірки програм дуже глибока:\n",
        "\n",
        "> Неможливо визначити правильність (відсутність помилок) програми за допомогою запусків. \n",
        "\n",
        "![Dijkstra](/images/dijkstra.jpg)\n",
        "\n",
        "Питання: чи можливо щось сказати про результат гри для довільної початкової кількості?\n",
        "\n",
        "Виявляється так, можна передбачити колір кулі, яка залишиться.\n",
        "\n",
        "**Теорема** Якщо функція асоціативна, то результат однозначний (не залежить від послідовності)\n",
        "\n",
        "![Dijkstra](/images/Semigroup_associative.svg.png)"
      ]
    },
    {
      "cell_type": "markdown",
      "metadata": {
        "id": "mePE-EIljMSU",
        "colab_type": "text"
      },
      "source": [
        "## Емерджентність\n",
        "\n",
        "Емерджентність це явище, яке проявляється на високому рівні маштабування та є наслідком локальних взаємодій нижчого рівня. \n",
        "\n",
        "Приклади:\n",
        "* життя\n",
        "* формування потоків трафіку\n",
        "* зграйна поведінка\n",
        "* оплескові хвилі\n",
        "* сегрегаційні структури у містах\n",
        "\n"
      ]
    },
    {
      "cell_type": "markdown",
      "metadata": {
        "id": "gsJU8mE9tJao",
        "colab_type": "text"
      },
      "source": [
        "[link text](https://www.youtube.com/embed/DLuEwFblaN4)"
      ]
    },
    {
      "cell_type": "code",
      "metadata": {
        "colab_type": "code",
        "id": "ab7komfiyMSj",
        "outputId": "c4d764ce-85dc-4910-def5-43e7c2f0b96c",
        "colab": {
          "base_uri": "https://localhost:8080/",
          "height": 335
        }
      },
      "source": [
        "from IPython.display import HTML\n",
        "\n",
        "# Youtube\n",
        "HTML('<iframe width=\"560\" height=\"315\" src=\"https://www.youtube.com/embed/DLuEwFblaN4?rel=0&amp;controls=0&amp;showinfo=0\" frameborder=\"0\" allowfullscreen></iframe>')\n"
      ],
      "execution_count": 0,
      "outputs": [
        {
          "output_type": "execute_result",
          "data": {
            "text/html": [
              "<iframe width=\"560\" height=\"315\" src=\"https://www.youtube.com/embed/DLuEwFblaN4?rel=0&amp;controls=0&amp;showinfo=0\" frameborder=\"0\" allowfullscreen></iframe>"
            ],
            "text/plain": [
              "<IPython.core.display.HTML object>"
            ]
          },
          "metadata": {
            "tags": []
          },
          "execution_count": 1
        }
      ]
    },
    {
      "cell_type": "markdown",
      "metadata": {
        "id": "xXro8lxfjYTc",
        "colab_type": "text"
      },
      "source": [
        "## Моделі\n",
        "\n",
        "Модель є спрощенням реальності. \n",
        "> **Всі моделі невірні, але деякі є корисними** \n",
        "---\n",
        "\n",
        "Модель, як правило, фокусується на головному аспекті явища. Можливі математичні, комп'ютерні (чисельні, імітаційні) моделі. \n",
        "Різні підходи до моделюванню дають різні результати. \n",
        "\n",
        "## Редукціонні і інтегруючі моделі \n",
        "\n",
        "Редукціонний Ньютонівський підхід:\n",
        "    - детерміністичний\n",
        "    - система уявлялась як машина (для сонячної системи спрацювало, для людей не дуже)\n",
        "    - ми можемо передбачити динаміку, якщо зрозуміємо роботу всіх внутрішніх механізмів\n",
        "    - прості закони, можливість зрозуміти складну динаміку\n",
        "    \n",
        "Інтегруючий підхід\n",
        "    - не можемо точно обчислити майбутню динаміку\n",
        "    - система постійно перебудовується відповідно до поточного стану і невеликих випадкових збурень. Хаос\n",
        "    - моделі змінюються відповідно до нашого сприйняття\n",
        "    - системи нестабільні, стохастичні\n",
        "    - система є наслідком накладення локальних дій багатоьох окремих сутностей (зграйність, натовп)\n",
        "    \n",
        "## Моделі: дедуктивний та індуктивний методи\n",
        "\n",
        "Індуктивна побудова - процес, який починається з огляду явища\n",
        "\n",
        "> Спостереження -> шаблон  -> гіпотеза  ->  теорія\n",
        "\n",
        "Дедуктивна побудова - процес, який йде у зворотному напрямку\n",
        "\n",
        "> Теорія  ->  гіпотези  ->  спостереження  -> підтвердження (або ні) "
      ]
    },
    {
      "cell_type": "markdown",
      "metadata": {
        "id": "6eSHjza-jdL2",
        "colab_type": "text"
      },
      "source": [
        "## Агенто-орієнтоване моделювання\n",
        "\n",
        "Агентні моделі - це клас обчислювальних моделей для імітаційного моделювання \n",
        "дій та взаємодій агентів. Об'єднують ідеї (та використовуються для перевірки) теорії ігор, складних систем, МАС, еволюційного пограмування, машинного навчання.\n",
        "\n",
        "Характерні елементи:\n",
        "\n",
        "    - велика кількість агентів\n",
        "    - евристичні методи прийняття рішень\n",
        "    - навчання під час виконання\n",
        "    - наявність середовища\n",
        "    - складна система взаємодії\n",
        "\n",
        "як правило базуються на комп'ютерному моделюванні.\n",
        "\n",
        "## Приклад. Сегрегаційна модель Шелінга\n",
        "Карта міста (Америка). Різні кольори - різні раси.\n",
        "\n",
        "### Чікаго\n",
        "![Chicago](/images/chicagodots_race_big_2010.jpg)"
      ]
    },
    {
      "cell_type": "markdown",
      "metadata": {
        "id": "LCrmrQiBjk1v",
        "colab_type": "text"
      },
      "source": [
        "Мікро-модель. Локальні правила, що формують поведінку кожного агента.\n",
        "![Правила моделі](/images/segreg-1.jpg)\n",
        "\n",
        "Результати моделювання.\n",
        "\n",
        "Початкове розташування.\n",
        "![Правила моделі](/images/schelling_2_initial.png)\n",
        "Фінальний розподіл\n",
        "![Правила моделі](/images/schelling_2_80_final.png)"
      ]
    },
    {
      "cell_type": "markdown",
      "metadata": {
        "id": "hSIlDidajyg9",
        "colab_type": "text"
      },
      "source": [
        "## Аналіз сегрегаційної моделі і емерджентність.\n",
        "\n",
        "В 1971 році Томас Шелінг опублікував роботу Динамічні моделі Сегрегації (Journal of Mathematical Sociology, 1971, Vol 1, pp 143–186). Він намагався зрозуміти чому так важко боротись з расовою сегрегацією в США. \n",
        "\n",
        "Гра, яка демонструє модель у простій формі: \n",
        "https://ncase.me/polygons/\n",
        "\n",
        "Модель дуже проста: \n",
        "\n",
        "1. Гра відбувається на двомірній сітці.\n",
        "2. Є два типи агентів, які можуть представляюти расу, дохід, статус.\n",
        "3. Кожен агент оцінює свій стан на основі локальної інформації (типів сусідів) і одного параметра \"щастя\".\n",
        "4. Нещасливі агенти змінюють своє місце (конкретні правила можуть вар'юватись).\n",
        "5. Гра продовжується поки є нащасливі агенти.    \n",
        "\n",
        "Результат, очевидно, залежить від щастя. Наприклад, правило \"Я хочу щоб всі мої сусіди були того ж типу, що і я\" призведе до повної сегрегації (якщо є місце). Але модель цікава тим, що невеликі зміни в правилах призводять до суттєвих змін результату (класична емерджентність). \n",
        "\n",
        "Преш Телвакар пише у своєму блозі: \n",
        "\n",
        "Модель Шелінга ідеалізована, але дає можливість зрозуміти сутність явища сегрегації і висвітлити неочевидні ідеї:\n",
        "\n",
        "1. Не вважайте всіх людей у \"білому\" районі расистами. \n",
        "    - невеликі уподобання можуть впливати з часом дуже сильно.\n",
        "\n",
        "2. Початкові умови мають значення.\n",
        "    - якщо ви хочете запобігти сегрегації потрібно починати з початку\n",
        "\n",
        "3. Для підтримання різноманітності потрібні зусилля. Іноді виїзд декількох сімей може призвести до сегрегації (це відбувається коли трапляється tipping point)\n",
        "    - в містечку-пригороді Чікаго Oak Park (яке є різноманітним) діють два правила: заборонено виставляти знаки \"продається\", місто пропонує страховку вартості будинку, яка гарантує, що вартість будинку не впаде через зміну сусідів. \n",
        "    \n",
        "4. Для порушення сегрегації потрібне втручання. "
      ]
    },
    {
      "cell_type": "code",
      "metadata": {
        "id": "aGBdX9qcYLFI",
        "colab_type": "code",
        "colab": {}
      },
      "source": [
        "# code from https://github.com/geraintpalmer/SchellingSegregationModel/blob/master/schelling.ipynb\n",
        "\n",
        "import matplotlib.pyplot as plt\n",
        "import numpy as np\n",
        "import itertools\n",
        "import copy\n",
        "import matplotlib.gridspec as gridspec\n",
        "from matplotlib import colors\n",
        "import seaborn as sns\n",
        "import networkx as nx\n",
        "import tqdm\n",
        "plt.style.use('seaborn-whitegrid')\n",
        "sns.set_palette('PuOr')\n",
        "\n",
        "class Agent:\n",
        "    def __init__(self, x, y, kind, preference, world):\n",
        "        self.x = x\n",
        "        self.y = y\n",
        "        self.kind = kind\n",
        "        self.preference = preference\n",
        "        self.world = world\n",
        "    \n",
        "    def know_neighbours(self):\n",
        "        self.neighbours = [self.world.coords[x % self.world.size, y % self.world.size]\n",
        "                           for x, y in itertools.product(range(self.x-1, self.x+2),\n",
        "                                                         range(self.y-1, self.y+2))]\n",
        "    \n",
        "    def swap(self, partner):\n",
        "        self.kind, partner.kind = partner.kind, self.kind\n",
        "    \n",
        "    def happiness(self):\n",
        "        neighbour_kinds = [n.kind for n in self.neighbours]\n",
        "        numsame = neighbour_kinds.count(self.kind)\n",
        "        numvacant = neighbour_kinds.count(0)\n",
        "        if numvacant == 8:\n",
        "            if self.vacant():\n",
        "                return 1.0\n",
        "            return 0.0\n",
        "        return (numsame - 1) / (8 - numvacant)\n",
        "    \n",
        "    def dissatisfied(self):\n",
        "        return self.happiness() < self.preference\n",
        "    \n",
        "    def vacant(self):\n",
        "        return self.kind == 0\n",
        "    "
      ],
      "execution_count": 0,
      "outputs": []
    },
    {
      "cell_type": "code",
      "metadata": {
        "id": "hG-6TdHGYLFP",
        "colab_type": "code",
        "colab": {}
      },
      "source": [
        "class World:\n",
        "    def __init__(self, size, kinds, probs, preference):\n",
        "        self.size = size\n",
        "        self.preference = preference\n",
        "        self.coords = self.populate_world(kinds, probs, preference)\n",
        "        [a.know_neighbours() for row in self.coords for a in row]\n",
        "        self.num_dissatisfied = size ** 2\n",
        "        self.num_vacant = sum([a.vacant() for row in self.coords for a in row])\n",
        "    \n",
        "    def populate_world(self, kinds, probs, preference):\n",
        "        return np.array([[Agent(x, y, np.random.choice(kinds, p=probs), preference, self)\n",
        "                          for y in range(self.size)] for x in range(self.size)])\n",
        "    \n",
        "    def atlas(self):\n",
        "        return np.array([[a.kind for a in row] for row in self.coords])\n",
        "    \n",
        "    def happiness_distribution(self):\n",
        "        return [a.happiness() for row in self.coords for a in row if not a.vacant()]\n",
        "    \n",
        "    def advance_turn(self):\n",
        "        dissatisfied = []\n",
        "        vacant = []\n",
        "        for row in self.coords:\n",
        "            for a in row:\n",
        "                if a.vacant():\n",
        "                    vacant.append(a)\n",
        "                elif a.dissatisfied():\n",
        "                    dissatisfied.append(a)\n",
        "        self.num_dissatisfied = len(dissatisfied)\n",
        "        np.random.shuffle(dissatisfied)\n",
        "        np.random.shuffle(vacant)\n",
        "        num_swap = min(self.num_dissatisfied, self.num_vacant)\n",
        "        for indx in range(num_swap):\n",
        "            dissatisfied[indx].swap(vacant[indx])\n",
        "    \n",
        "    def play(self, threshold=0.01):\n",
        "        while self.num_dissatisfied / (self.size ** 2) > threshold:\n",
        "            self.advance_turn()"
      ],
      "execution_count": 0,
      "outputs": []
    },
    {
      "cell_type": "code",
      "metadata": {
        "id": "phz0eUo9YLFY",
        "colab_type": "code",
        "colab": {}
      },
      "source": [
        "class WorldArchiving(World):\n",
        "    def __init__(self, size, kinds, probs, preference):\n",
        "        super(WorldArchiving, self).__init__(size, kinds, probs, preference)\n",
        "        self.archived_atlases = []\n",
        "    \n",
        "    def archive(self):\n",
        "        self.archived_atlases.append(copy.deepcopy(self.atlas()))\n",
        "\n",
        "    def play(self, threshold=0.01):\n",
        "        self.archive()\n",
        "        while self.num_dissatisfied / (self.size ** 2) > threshold:\n",
        "            self.advance_turn()\n",
        "            self.archive()\n",
        "\n",
        "def plot_atlas(w, turn):\n",
        "    num_turns = len(w.archived_atlases)\n",
        "    cmap = colors.ListedColormap(['white', '#FFCC1A', '#630081'])\n",
        "    fig, ax = plt.subplots(1, figsize=(11, 11))\n",
        "    ax.pcolor(w.archived_atlases[turn], cmap=cmap)\n",
        "    ax.set_xticks([])\n",
        "    ax.set_yticks([])\n",
        "    plt.tight_layout()\n",
        "    fig.savefig('atlas_' + str(turn))\n",
        "\n",
        "def number_connected_components(w):\n",
        "    temp = np.matrix(copy.deepcopy(w.atlas()))\n",
        "    nodes = ['(' + str(x) + ', ' + str(y) + ')' for x in range(w.size) for y in range(w.size) if temp[x, y] != 0]\n",
        "    G = nx.Graph()\n",
        "    G.add_nodes_from(nodes)\n",
        "    for x in range(w.size):\n",
        "        for y in range(w.size):\n",
        "            if temp[(x+1) % w.size, y] != 0 and temp[x, y] != 0:\n",
        "                if temp[(x+1) % w.size, y] == temp[x, y]:\n",
        "                    G.add_edge('(' + str(x) + ', ' + str(y) + ')', '(' + str((x+1) % w.size) + ', ' + str(y) + ')')\n",
        "            if temp[x, (y+1) % w.size] != 0 and temp[x, y] != 0:\n",
        "                if temp[x, (y+1) % w.size] == temp[x, y]:\n",
        "                    G.add_edge('(' + str(x) + ', ' + str(y) + ')', '(' + str(x) + ', ' + str((y+1) % w.size) + ')')\n",
        "    return nx.number_connected_components(G)"
      ],
      "execution_count": 0,
      "outputs": []
    },
    {
      "cell_type": "markdown",
      "metadata": {
        "id": "mQK6tLbRkCfO",
        "colab_type": "text"
      },
      "source": [
        "## Експерименти\n",
        "\n",
        "* Змінюємо відсоток сусідів, необхідних для щастя: 0.01 -- 0.75 з кроком 0.01"
      ]
    },
    {
      "cell_type": "code",
      "metadata": {
        "id": "1NJMR4OKYLFi",
        "colab_type": "code",
        "colab": {}
      },
      "source": [
        "num_trials = 10\n",
        "np.random.seed(0)\n",
        "worlds = {str(round(pref, 4)): [World(40, [0, 1, 2], [0.1, 0.45, 0.45], pref) for trial in range(num_trials)] for pref in [i*0.01 for i in range(76)]}"
      ],
      "execution_count": 0,
      "outputs": []
    },
    {
      "cell_type": "code",
      "metadata": {
        "id": "7IZk25VWYLFr",
        "colab_type": "code",
        "outputId": "6b2adb82-17ce-4025-d52e-0b5da1787d54",
        "colab": {}
      },
      "source": [
        "for k, trial in tqdm.tqdm(list(itertools.product(worlds, range(num_trials)))):\n",
        "    worlds[k][trial].play(threshold=0.00005)"
      ],
      "execution_count": 0,
      "outputs": [
        {
          "output_type": "stream",
          "text": [
            "100%|██████████| 760/760 [04:30<00:00,  1.93s/it]\n"
          ],
          "name": "stderr"
        }
      ]
    },
    {
      "cell_type": "code",
      "metadata": {
        "id": "196DHsf9YLFw",
        "colab_type": "code",
        "outputId": "6918b80f-4ef8-479c-e194-5d3d60a01c8e",
        "colab": {}
      },
      "source": [
        "nrows = 3\n",
        "ncols = 4\n",
        "cmap = colors.ListedColormap(['white', '#FFCC1A', '#630081'])\n",
        "fig, axarr = plt.subplots(nrows=nrows, ncols=ncols, figsize=(22, 18))\n",
        "for i, k in enumerate(['0.2', '0.25', '0.3', '0.35', '0.4', '0.45', '0.5', '0.55', '0.6', '0.65', '0.7', '0.75',]):\n",
        "    axarr[i // ncols, i % ncols].pcolor(worlds[k][0].atlas(), cmap=cmap)\n",
        "    axarr[i // ncols, i % ncols].set_xticks([])\n",
        "    axarr[i // ncols, i % ncols].set_yticks([])\n",
        "    axarr[i // ncols, i % ncols].set_title('Щастя = ' + str(k), fontsize=34)\n",
        "plt.tight_layout()\n",
        "fig.savefig('increase_preference')"
      ],
      "execution_count": 0,
      "outputs": [
        {
          "output_type": "display_data",
          "data": {
            "image/png": "[encoded data removed]",
            "text/plain": [
              "<Figure size 1584x1296 with 12 Axes>"
            ]
          },
          "metadata": {
            "tags": []
          }
        }
      ]
    },
    {
      "cell_type": "markdown",
      "metadata": {
        "id": "WT5k8LYck9-u",
        "colab_type": "text"
      },
      "source": [
        "## Анімація\n",
        "![Правила моделі](/images/atlas.gif)"
      ]
    },
    {
      "cell_type": "code",
      "metadata": {
        "id": "VhOHfxizYLF5",
        "colab_type": "code",
        "outputId": "1de60973-52aa-44ef-96dd-bb756b8c5b85",
        "colab": {}
      },
      "source": [
        "fig = plt.figure(figsize=(16, 10))\n",
        "sns.tsplot([[np.mean(worlds[k][trial].happiness_distribution()) for k in sorted(worlds)] for trial in range(num_trials)], ci=99);\n",
        "ticks = np.linspace(0, 75, 16)\n",
        "plt.xticks(ticks, [list(sorted(worlds.keys()))[int(t)] for t in ticks])\n",
        "plt.xlabel('Preference', fontsize=28)\n",
        "plt.ylabel('Average Neighbour Similarity', fontsize=28)\n",
        "plt.tick_params(axis='both', which='major', labelsize=16)\n",
        "plt.savefig('preference_meanhappiness')"
      ],
      "execution_count": 0,
      "outputs": [
        {
          "output_type": "stream",
          "text": [
            "/home/oleksii/my_python/my_project_env/lib/python3.6/site-packages/seaborn/timeseries.py:183: UserWarning: The `tsplot` function is deprecated and will be removed in a future release. Please update your code to use the new `lineplot` function.\n",
            "  warnings.warn(msg, UserWarning)\n"
          ],
          "name": "stderr"
        },
        {
          "output_type": "display_data",
          "data": {
            "image/png": "[encoded data removed]",
            "text/plain": [
              "<Figure size 1152x720 with 1 Axes>"
            ]
          },
          "metadata": {
            "tags": []
          }
        }
      ]
    },
    {
      "cell_type": "markdown",
      "metadata": {
        "id": "_QA581YzdNTk",
        "colab_type": "text"
      },
      "source": [
        "# Ігри в нормальній формі\n",
        "\n",
        "Теорія ігор досліджує інтерактивне прийняття рішень. Розглянемо наступну гру:\n",
        "\n",
        "\n",
        "> Пара вирішує, що вони хочуть дивитись спорт чи комедію. Алісі більше подобається комедія, а Боб любить спорт. Важливо, що вони більш цінують перегляд ТВ разом ніж окремо.\n",
        "\n",
        "Для представлення математично цієї стратегічної ситуації ми призначимо **корисності** кожній з чотирьох можливих ситуацій:\n",
        "\n",
        "1. Аліса дивиться спорт, Боб дивиться комедію: Аліса і Боб отримують $0$.\n",
        "2. Аліса дивиться комедію, Боб дивиться спорт: Аліса і Боб отримують $0$.\n",
        "3. Аліса і Боб дивляться спорт: Аліса отримує $3$, Боб отримує $2$.\n",
        "4. Аліса і Боб дивляться комедію: Аліса отримує $2$, Боб отримує $3$.\n",
        "\n",
        "Ця гра отримала назву \"Сімейна сварка\" (\"battle of the sexes\", \"bach or stravinsky\" ) і ми її представимо у вигляді двох матриць, $A$ - це виграші Аліси:\n",
        "\n",
        "$$\n",
        "A = \n",
        "\\begin{pmatrix}\n",
        "3 & 0\\\\\n",
        "0 & 2\n",
        "\\end{pmatrix}\n",
        "$$\n",
        "\n",
        "а матриця $B$ представляє виграші Боба:\n",
        "\n",
        "$$\n",
        "B = \n",
        "\\begin{pmatrix}\n",
        "2 & 0\\\\\n",
        "0 & 3\n",
        "\\end{pmatrix}\n",
        "$$\n",
        "\n",
        "За домовленістю **Аліса вибирає рядки** а **Боб вибирає стовпці**: \n",
        "\n",
        "Це представлення називається **Грою в нормальній (стратегічній) формі**.\n",
        "\n",
        "---\n",
        "\n",
        "Гра \\\\(N\\\\) учасників в стратегічній формі містить:\n",
        "\n",
        "- Скінченну множину гравців $N$\n",
        "- Простори стратегій для кожного гравця: $\\{S_1,S_2,S_3,\\dots,S_N\\}$;\n",
        "- Функції виграшу для кожного гравця: $u_i:S_1\\times S_2\\dots\\times S_N\\to\\mathbb{R}$\n",
        "\n",
        "---\n",
        "\n",
        "Для гри сімейна сварка:\n",
        "\n",
        "- У нас двоє гравців (Аліса і Боб) \n",
        "- Простори стратегій : $S_1=S_2=\\{\\text{комедія}, \\text{спорт}\\}$ або еквівалентно $S_1=S_2=\\{1, 2\\}$\n",
        "- Функції виграшу відображують елемент декартової множини просторів стратегій $\\tilde s \\in S_1\\times S_2=\\{(1, 1), (1, 2), (2, 1), (2, 2)\\}$ в $\\mathbb{R}$:\n",
        "\n",
        "   $$u_1(\\tilde s)=A_{\\tilde s},$$\n",
        "   \n",
        "   $$u_2(\\tilde s)=B_{\\tilde s}.$$\n",
        "   \n",
        "---\n",
        "\n",
        "Для побудови цієї та інших ігор і їх розв'язку використаємо пакет nashpy:"
      ]
    },
    {
      "cell_type": "code",
      "metadata": {
        "id": "n8hVeyMiDJyA",
        "colab_type": "code",
        "outputId": "9e05f626-83f6-4cb2-bae0-cb5e9797f233",
        "colab": {
          "base_uri": "https://localhost:8080/",
          "height": 224
        }
      },
      "source": [
        "!pip install nashpy"
      ],
      "execution_count": 0,
      "outputs": [
        {
          "output_type": "stream",
          "text": [
            "Collecting nashpy\n",
            "  Downloading https://files.pythonhosted.org/packages/ad/a2/5d36744511640db1869029d2ab324b55f6eaaa2a51f75a87408a7e8000f4/nashpy-0.0.19.tar.gz\n",
            "Requirement already satisfied: numpy>=1.12.1 in /usr/local/lib/python3.6/dist-packages (from nashpy) (1.17.5)\n",
            "Requirement already satisfied: scipy>=0.19.0 in /usr/local/lib/python3.6/dist-packages (from nashpy) (1.4.1)\n",
            "Building wheels for collected packages: nashpy\n",
            "  Building wheel for nashpy (setup.py) ... \u001b[?25l\u001b[?25hdone\n",
            "  Created wheel for nashpy: filename=nashpy-0.0.19-cp36-none-any.whl size=10814 sha256=edcffb8b73413d7b175c2ff75ce6c5ec0ecc8053dc3a82aeda408c2178105bb5\n",
            "  Stored in directory: /root/.cache/pip/wheels/18/e9/56/2d04d01a6969d167f86d3afcb3d128c0b43d0d73ea471c835b\n",
            "Successfully built nashpy\n",
            "Installing collected packages: nashpy\n",
            "Successfully installed nashpy-0.0.19\n"
          ],
          "name": "stdout"
        }
      ]
    },
    {
      "cell_type": "code",
      "metadata": {
        "id": "R9FRJhzUEa-l",
        "colab_type": "code",
        "outputId": "28a56493-da56-417d-8d5b-c4003b6244cf",
        "colab": {
          "base_uri": "https://localhost:8080/",
          "height": 170
        }
      },
      "source": [
        "import nashpy as nash\n",
        "A = [[3, 1], [0, 2]]\n",
        "B = [[2, 1], [0, 3]]\n",
        "battle_of_the_sexes = nash.Game(A, B)\n",
        "battle_of_the_sexes"
      ],
      "execution_count": 0,
      "outputs": [
        {
          "output_type": "execute_result",
          "data": {
            "text/plain": [
              "Bi matrix game with payoff matrices:\n",
              "\n",
              "Row player:\n",
              "[[3 1]\n",
              " [0 2]]\n",
              "\n",
              "Column player:\n",
              "[[2 1]\n",
              " [0 3]]"
            ]
          },
          "metadata": {
            "tags": []
          },
          "execution_count": 5
        }
      ]
    },
    {
      "cell_type": "markdown",
      "metadata": {
        "id": "5gyYK3qzJKB0",
        "colab_type": "text"
      },
      "source": [
        "*italicized text*![alt text](images/matrix_game1.png)"
      ]
    },
    {
      "cell_type": "markdown",
      "metadata": {
        "id": "JS1kiNhAJxLo",
        "colab_type": "text"
      },
      "source": [
        "Ігри з нульовою сумою моделюються так:\n"
      ]
    },
    {
      "cell_type": "code",
      "metadata": {
        "id": "VdHE-xfoJ2Fw",
        "colab_type": "code",
        "outputId": "a0d89970-36ab-4b52-f896-ea2e3c66e2b9",
        "colab": {
          "base_uri": "https://localhost:8080/",
          "height": 170
        }
      },
      "source": [
        "A = [[1, -1], [-1, 1]]\n",
        "matching_pennies = nash.Game(A)\n",
        "matching_pennies"
      ],
      "execution_count": 0,
      "outputs": [
        {
          "output_type": "execute_result",
          "data": {
            "text/plain": [
              "Zero sum game with payoff matrices:\n",
              "\n",
              "Row player:\n",
              "[[ 1 -1]\n",
              " [-1  1]]\n",
              "\n",
              "Column player:\n",
              "[[-1  1]\n",
              " [ 1 -1]]"
            ]
          },
          "metadata": {
            "tags": []
          },
          "execution_count": 6
        }
      ]
    },
    {
      "cell_type": "markdown",
      "metadata": {
        "id": "WyBp6YrB3_Dt",
        "colab_type": "text"
      },
      "source": [
        "# Задачі для розв'язання\n",
        "\n",
        "## Побудова ігор в нормальній формі\n",
        "\n",
        "Проаналізуємо матрицю\n",
        "\n",
        "$$\n",
        "\\begin{pmatrix}\n",
        "2, 3 & 5, 0\\\\\n",
        "1, 0 & 4, 3\n",
        "\\end{pmatrix}\n",
        "$$\n",
        "\n",
        "більша матриця\n",
        "\n",
        "$$\n",
        "\\begin{pmatrix}\n",
        "8, 3 & 0, 4 & 4, 4\\\\\n",
        "4, 2 & 1, 5 & 5, 3 \\\\\n",
        "3, 7 & 0, 1 & 2, 0\n",
        "\\end{pmatrix}\n",
        "$$\n",
        "\n",
        "які ідеї розв'язку (і що таке розв'язок).\n",
        "\n",
        "### Домінування та найкраща відповідь\n",
        "\n",
        "Приклади матриць 2х2\n",
        "\n",
        "![Правила моделі](/images/SimpleGames.png)\n",
        "\n",
        "\n",
        "> Чиста стратегія $s_i$ гравця $i$ є домінованою, якщо існує стратегія (чиста або змішана)  $\\sigma_i \\in \\Delta S_i$, таке, що $ u_i(\\sigma_i , s_{−i}) > u_i(s_i , s_{−i})$, для всіх стратегій $s_{−i} \\in S_{−i} $ інших гравців.\n",
        "\n",
        "Задачі\n",
        "\n",
        "1. You’re in Las Vegas, and you must decide what to do at the dog-racing betting window. You may choose not to participate or you may bet on one of two dogs as follows. Betting on Snoopy costs `$`1, and you will be paid `$`2 if he wins. Betting on Lassie costs `$`1, and you will be paid `$`11 if she wins. \n",
        "You believe that Snoopy has probability 0.7 of winning and that Lassie has probability 0.1 of winning (there are other dogs on which you are not considering betting). Your goal is to maximize the expected monetary return of your action.\n",
        "    1. Draw the decision tree for this problem.\n",
        "    2. What is your best course of action, and what is your expected value?\n",
        "    3. Someone offers you gambler’s “anti-insurance,” which you may ac-\n",
        "cept or decline. If you accept it, you get paid $2 up front and you agree to pay back 50% of any winnings you receive. Draw the new decision tree and find the optimal action.\n",
        "\n",
        "2. Discount Prices: A local department store sells products at a given initial price, and every week a product goes unsold, its price is discounted by 25% of the original price. If it is not sold after four weeks, it is sent back to the regional warehouse. A set of kitchen knives was just put out for `$`200. Your willingness to pay for the knives (your dollar value) is `$`180, so if you buy them at a price P, your payoff is u = 180 − P. If you don’t buy the knives, the chances that they will be sold to someone else, conditional on not having been sold the week before, are as follows:\n",
        "  - Week 1 0.2 \n",
        "  - Week 2 0.4 \n",
        "  - Week 3 0.6 \n",
        "  - Week 4 0.8\n",
        "\n",
        "For example, if you do not buy the knives during the first two weeks, the likelihood that they will be available at the beginning of the third week is the likelihood that they do not sell in either week 1 or week 2, which is 0.8 × 0.6 = 0.48.\n",
        "  1. Draw your decision tree for the four weeks after the knives are put out for sale.\n",
        "  2. At the beginning of which week, if any, should you run to buy the knives?\n",
        "  3.Find a willingness to pay for the knives that would make it optimal to buy at the beginning of the first week.\n",
        "  4. Find a willingness to pay that would make it optimal to buy at the beginning of the fourth week.\n",
        "\n",
        "3. "
      ]
    },
    {
      "cell_type": "markdown",
      "metadata": {
        "id": "zDJaVi-tBID3",
        "colab_type": "text"
      },
      "source": [
        "## Раціоналізація і ітеративне видалення домінованих стратегій.\n",
        "\n"
      ]
    }
  ]
}