{
 "cells": [
  {
   "cell_type": "code",
   "execution_count": 3,
   "metadata": {},
   "outputs": [
    {
     "data": {
      "text/plain": [
       "'0.0.19'"
      ]
     },
     "execution_count": 3,
     "metadata": {},
     "output_type": "execute_result"
    }
   ],
   "source": [
    "import nashpy as nash\n",
    "nash.__version__\n"
   ]
  },
  {
   "cell_type": "markdown",
   "metadata": {},
   "source": [
    "# Ігри в стратегічній формі \n",
    "\n",
    "Теорія ігор досліджує інтерактивне прийняття рішень. Розглянемо наступну гру:\n",
    "\n",
    "\n",
    "> Пара вирішує, що вони хочуть дивитись спорт чи комедію. Алісі більше подобається комедія, а Боб любить спорт. Важливо, що вони більш цінують перегляд ТВ разом ніж окремо.\n",
    "\n",
    "Для представлення математично цієї стратегічної ситуації ми призначимо **корисності** кожній з чотирьох можливих ситуацій:\n",
    "\n",
    "1. Аліса дивиться спорт, Боб дивиться комедію: Аліса і Боб отримують $0$.\n",
    "2. Аліса дивиться комедію, Боб дивиться спорт: Аліса і Боб отримують $0$.\n",
    "3. Аліса і Боб дивляться спорт: Аліса отримує $3$, Боб отримує $2$.\n",
    "4. Аліса і Боб дивляться комедію: Аліса отримує $2$, Боб отримує $3$.\n",
    "\n",
    "Ця гра отримала назву \"Сімейна сварка\" (\"battle of the sexes\", \"bach or stravinsky\" ) і ми її представимо у вигляді двох матриць, $A$ - це виграші Аліси:\n",
    "\n",
    "$$\n",
    "A = \n",
    "\\begin{pmatrix}\n",
    "3 & 0\\\\\n",
    "0 & 2\n",
    "\\end{pmatrix}\n",
    "$$\n",
    "\n",
    "а матриця $B$ представляє виграші Боба:\n",
    "\n",
    "$$\n",
    "B = \n",
    "\\begin{pmatrix}\n",
    "2 & 0\\\\\n",
    "0 & 3\n",
    "\\end{pmatrix}\n",
    "$$\n",
    "\n",
    "За домовленістю **Аліса вибирає рядки** а **Боб вибирає стовпці**: \n",
    "\n",
    "Це представлення називається **Грою в нормальній (стратегічній) формі**.\n",
    "\n",
    "---\n",
    "\n",
    "Гра \\\\(N\\\\) учасників в стратегічній формі містить:\n",
    "\n",
    "- Скінченну множину гравців $N$\n",
    "- Простори стратегій для кожного гравця: $\\{S_1,S_2,S_3,\\dots,S_N\\}$;\n",
    "- Функції виграшу для кожного гравця: $u_i:S_1\\times S_2\\dots\\times S_N\\to\\mathbb{R}$\n",
    "\n",
    "---\n",
    "\n",
    "Для гри сімейна сварка:\n",
    "\n",
    "- У нас двоє гравців (Аліса і Боб) \n",
    "- Простори стратегій : $S_1=S_2=\\{\\text{комедія}, \\text{спорт}\\}$ або еквівалентно $S_1=S_2=\\{1, 2\\}$\n",
    "- Функції виграшу відображують елемент декартової множини просторів стратегій $\\tilde s \\in S_1\\times S_2=\\{(1, 1), (1, 2), (2, 1), (2, 2)\\}$ в $\\mathbb{R}$:\n",
    "\n",
    "   $$u_1(\\tilde s)=A_{\\tilde s},$$\n",
    "   \n",
    "   $$u_2(\\tilde s)=B_{\\tilde s}.$$\n",
    "   \n",
    "---\n",
    "\n",
    "Для побудови цієї та інших ігор і їх розв'язку використаємо пакет nashpy:"
   ]
  },
  {
   "cell_type": "code",
   "execution_count": 4,
   "metadata": {},
   "outputs": [
    {
     "data": {
      "text/plain": [
       "Bi matrix game with payoff matrices:\n",
       "\n",
       "Row player:\n",
       "[[3 1]\n",
       " [0 2]]\n",
       "\n",
       "Column player:\n",
       "[[2 1]\n",
       " [0 3]]"
      ]
     },
     "execution_count": 4,
     "metadata": {},
     "output_type": "execute_result"
    }
   ],
   "source": [
    "\n",
    "A = [[3, 1], [0, 2]]\n",
    "B = [[2, 1], [0, 3]]\n",
    "battle_of_the_sexes = nash.Game(A, B)\n",
    "battle_of_the_sexes"
   ]
  },
  {
   "cell_type": "code",
   "execution_count": 5,
   "metadata": {},
   "outputs": [
    {
     "data": {
      "text/plain": [
       "Zero sum game with payoff matrices:\n",
       "\n",
       "Row player:\n",
       "[[ 0  1 -1]\n",
       " [-1  0  1]\n",
       " [ 1 -1  0]]\n",
       "\n",
       "Column player:\n",
       "[[ 0 -1  1]\n",
       " [ 1  0 -1]\n",
       " [-1  1  0]]"
      ]
     },
     "execution_count": 5,
     "metadata": {},
     "output_type": "execute_result"
    }
   ],
   "source": [
    "A = [[0, 1, -1], [-1, 0, 1], [1, -1, 0]]\n",
    "rock_paper_scissors = nash.Game(A)\n",
    "rock_paper_scissors"
   ]
  },
  {
   "cell_type": "code",
   "execution_count": 9,
   "metadata": {},
   "outputs": [],
   "source": [
    "import numpy as np"
   ]
  },
  {
   "cell_type": "markdown",
   "metadata": {},
   "source": [
    "# Стратегії гравців і їх корисність. Чисті і змішані стратегії. Рівновага в змішаних стратегіях.\n",
    "\n",
    "---\n",
    "\n",
    "## Визначення змішаних стратегій\n",
    "\n",
    "\n",
    "> Змішана стратегія гравця $i$ з множиною стратегій $S_i$ позначається $\\sigma_i \\in [0,1]_{\\mathbb{R}}^{|S_i|}$ та відповідає ймовірносному розподілу на просторі чистих стратегій.\n",
    "\n",
    "Тобто виконується: \n",
    "\n",
    "$$\n",
    "\\sum_{i=1}^{|S_i|}\\sigma_i = 1\n",
    "$$\n",
    "\n",
    "---\n",
    "\n",
    "Очікуваний виграш гравця є мірою розподілу ймовірності.\n",
    "\n",
    "---\n",
    "\n",
    "## Обчислення корисності стратегії\n",
    "\n",
    "Розглянемо гру \n",
    "$(A, B)\\in\\mathbb{{R^{m \\times n}}^2}$, і нехай $\\sigma_r$ та $\\sigma_c$ - це змішані стратегії для першого і другого гравця відповідно. Тоді гравці отримають наступні виграші: \n",
    "\n",
    "$$\n",
    "u_r(\\sigma_r, \\sigma_c) = \\sum_{i=1}^m\\sum_{j=1}^nA_{ij}{\\sigma_r}_i{\\sigma_c}_j\n",
    "$$\n",
    "\n",
    "та:\n",
    "\n",
    "$$\n",
    "u_c(\\sigma_r, \\sigma_c) = \\sum_{i=1}^m\\sum_{j=1}^nB_{ij}{\\sigma_r}_i{\\sigma_c}_j\n",
    "$$\n",
    "\n",
    "Це випливає з того, що:\n",
    "\n",
    "- Ймовірність опинитись в певній клітинці  $A$ або $B$: ${\\sigma_r}_i{\\sigma_c}_j$\n",
    "- Значення виграшу в клітинці дорівнює: $A_{ij}$ або $B_{ij}$"
   ]
  },
  {
   "cell_type": "code",
   "execution_count": 11,
   "metadata": {},
   "outputs": [
    {
     "data": {
      "text/plain": [
       "array([-0.28,  0.28])"
      ]
     },
     "execution_count": 11,
     "metadata": {},
     "output_type": "execute_result"
    }
   ],
   "source": [
    "strategy1 = np.array([0.1, 0.1, 0.8])\n",
    "strategy2 = np.array([0.2, 0.6, 0.2])\n",
    "rock_paper_scissors[strategy1, strategy2]"
   ]
  },
  {
   "cell_type": "markdown",
   "metadata": {},
   "source": [
    "---\n",
    "\n",
    "## Розглянемо декілька прикладів.\n",
    "\n",
    "### Орлянка\n",
    "\n",
    "Гра визначається наступними матрицями:\n",
    "\n",
    "$$\n",
    "A =\n",
    "\\begin{pmatrix}\n",
    "    1 & -1\\\\\n",
    "    -1 & 1\n",
    "\\end{pmatrix}\\qquad\n",
    "B =\n",
    "\\begin{pmatrix}\n",
    "    -1 & 1\\\\\n",
    "    1 & -1\n",
    "\\end{pmatrix}\n",
    "$$\n",
    "\n",
    "Проаналізуємо цю гру. Позначимо найкращі відповіді:\n",
    "\n",
    "$$\n",
    "A =\n",
    "\\begin{pmatrix}\n",
    "    1^* & -1\\\\\n",
    "    -1 & 1^*\n",
    "\\end{pmatrix}\\qquad\n",
    "B =\n",
    "\\begin{pmatrix}\n",
    "    -1 & 1^*\\\\\n",
    "    1^* & -1\n",
    "\\end{pmatrix}\n",
    "$$\n",
    "\n",
    "Отже рівноваги в чистих стратегіях немає. \n",
    "\n",
    "Припустимо, що гравці вибрали такі змішані стратегії:\n",
    "\n",
    "$$\n",
    "\\sigma_r = (.2, .8)\n",
    "\\qquad\n",
    "\\sigma_c = (.6, .4)\n",
    "$$\n",
    "\n",
    "Тоді виграші будуть рівні:\n",
    "\n",
    "$$\n",
    "u_r(\\sigma_r, \\sigma_c) = 0.2 \\times 0.6 \\times 1 + 0.2 \\times 0.4 \\times (-1) + 0.8 \\times 0.6 \\times (-1) + 0.8 \\times 0.4 \\times 1=-0.12,\n",
    "$$\n",
    "\n",
    "$$\n",
    "u_c(\\sigma_r, \\sigma_c) = 0.2 \\times 0.6 \\times (-1) + 0.2 \\times 0.4 \\times 1 + 0.8 \\times 0.6 \\times 1 + 0.8 \\times 0.4 \\times (-1)=0.12.\n",
    "$$\n",
    "\n",
    "---\n",
    "\n",
    "### Гра лоббіювання\n",
    "\n",
    "$$\n",
    "A =\n",
    "\\begin{pmatrix}\n",
    "    -5 & 25\\\\\n",
    "    0 & 10\n",
    "\\end{pmatrix}\\qquad\n",
    "B =\n",
    "\\begin{pmatrix}\n",
    "    -5 & 0\\\\\n",
    "    15 & 10\n",
    "\\end{pmatrix}\n",
    "$$\n",
    "\n",
    "Знайти найкращі відповіді і рівноваги Неша.\n",
    "\n",
    "---\n",
    "\n",
    "## Лінійні перетворення\n",
    "\n",
    "Зауважимо, що ми можемо перекомпонувати вирази для корисностей:\n",
    "\n",
    "$$\n",
    "u_r(\\sigma_r, \\sigma_c) = \\sum_{i=1}^m{\\sigma_r}_i\\sum_{j=1}^nA_{ij}{\\sigma_c}_j\n",
    "$$\n",
    "\n",
    "$$\n",
    "u_c(\\sigma_r, \\sigma_c) = \\sum_{i=1}^m{\\sigma_r}_i\\sum_{j=1}^nB_{ij}{\\sigma_c}_j\n",
    "$$\n",
    "\n",
    "що, в свою чергу, приводить до наступного добутку матриць\n",
    "\n",
    "$$\n",
    "u_r(\\sigma_r, \\sigma_c) = {\\sigma_r}A\\sigma_c^T\n",
    "$$\n",
    "\n",
    "$$\n",
    "u_c(\\sigma_r, \\sigma_c) = {\\sigma_r}B\\sigma_c^T\n",
    "$$\n",
    "\n",
    "Давайте перевіримо програмуванням."
   ]
  },
  {
   "cell_type": "code",
   "execution_count": 12,
   "metadata": {},
   "outputs": [
    {
     "data": {
      "text/plain": [
       "(-0.11088900000000002, 0.11088900000000002)"
      ]
     },
     "execution_count": 12,
     "metadata": {},
     "output_type": "execute_result"
    }
   ],
   "source": [
    "import numpy as np\n",
    "A = np.array([[1, -1], [-1, 1]])\n",
    "B = np.array([[-1, 1], [1, -1]])\n",
    "sigma_r = np.array([.2, .8])\n",
    "sigma_c = np.array([.6, .4])\n",
    "np.dot(sigma_r, np.dot(A, sigma_c)), np.dot(sigma_r, np.dot(B, sigma_c))\n",
    "\n",
    "sigma_r = np.array([.333, .666])\n",
    "sigma_c = np.array([.666, .333])\n",
    "np.dot(sigma_r, np.dot(A, sigma_c)), np.dot(sigma_r, np.dot(B, sigma_c))"
   ]
  },
  {
   "cell_type": "markdown",
   "metadata": {},
   "source": [
    "# Задачі\n",
    "\n",
    "1. Five commuters A, B, C, D, E, must choose between their own car with a fixed travel cost, or the public bus, where the charge to each user decreases with the number of users. Let ci denote the cost/travel time of using his own car for commuter i ∈ {A,B,C,D,E} and let cA = 1,cB = 3,cC = 5,cD = 7,cE = 9. Regarding the bus, if 1 person uses it his cost will be 10, if 2 people use it then each of them will have cost 8, if 3 people use it then each of them will have cost 6, if 4 people use it then each of them will have cost 4, while if all 5 people use it then each of them will have cost 2. Naturally, each player wants to minimize his own cost. \n",
    "\n",
    "    a. Is there any dominated strategy (ies) in this game? If yes, perform an iterated elimination of all dominated strategies. Explicitly mention the sequence in which the corresponding strategies are eliminated and present the resulting game. \n",
    "    \n",
    "    b. Find (and clearly present) all pure Nash equilibria (NE) of the game.\n",
    "    \n",
    "2. Для гри КНП знайти найкращі відповіді на стратегії \n",
    "\n",
    "    (a) u2 = (1/6, 1/3, 1/2)\n",
    "    \n",
    "    (b) u1 = (1/6, 1/3, 1/2)\n",
    "    \n",
    "    (c) u2 = (1/4, 1/8, 5/8)\n",
    "    \n",
    "    (d) u1 = (1/2, 1/2, 0)\n",
    "    \n",
    "3. Розв'язати гру\n",
    "\n",
    "$$\n",
    "A =\n",
    "\\begin{pmatrix}\n",
    "    5, 4 & 4, 4 & 4, 5 &  12, 2\\\\\n",
    "    3, 7 & 8, 7 & 5, 8 & 10, 6 \\\\\n",
    "    2, 10 & 7, 6 & 4, 6 & 9, 5\\\\\n",
    "    4, 4 & 5, 9 & 4, 10 & 10, 9\n",
    "\\end{pmatrix}\n",
    "$$\n",
    "\n"
   ]
  },
  {
   "cell_type": "markdown",
   "metadata": {},
   "source": [
    "# Найкраща відповідь\n",
    "\n",
    "---\n",
    "\n",
    "## Визначення найкращої відповіді\n",
    "\n",
    "В грі двох учасників $(A,B)\\in{\\mathbb{R}^{m\\times n}}^2$ змішана стратегія $\\sigma_1^*$  першого гравця є найкращою відповіддю на стратегію другого гравця $\\sigma_2$ iff, якщо:\n",
    "\n",
    "$$\n",
    "\\sigma_1^*=\\text{argmax}_{\\sigma_1\\in S_1}\\sigma_1A\\sigma_2^T.\n",
    "$$\n",
    "\n",
    "Аналогічно, змішана стратегія $\\sigma_2^*$ другого гравця є найкращою відповіддю на стратегію першого гравця $\\sigma_1$ тоді і тільки тоді, коли:\n",
    "\n",
    "$$\n",
    "\\sigma_2^*=\\text{argmax}_{\\sigma_2\\in S_2}\\sigma_1B\\sigma_2^T.\n",
    "$$\n",
    "\n",
    "---\n",
    "\n",
    "Іншими словами: найкраща відповідь максимізує корисність гравця для заданої стратегії іншого гравця.\n",
    "\n",
    "## Найкращі відповіді в Дилемі ув'язеного\n",
    "\n",
    "Розглянемо ДУ:\n",
    "\n",
    "$$\n",
    "A = \\begin{pmatrix}\n",
    "3 & 0\\\\\n",
    "5 & 1\n",
    "\\end{pmatrix}\\qquad\n",
    "B = \\begin{pmatrix}\n",
    "3 & 5\\\\\n",
    "0 & 1\n",
    "\\end{pmatrix}\n",
    "$$\n",
    "\n",
    "знаходимо найкращі відповіді для одного\n",
    "\n",
    "$$\n",
    "A = \\begin{pmatrix}\n",
    "3 & 0\\\\\n",
    "\\underline{5} & \\underline{1}\n",
    "\\end{pmatrix}\n",
    "$$\n",
    "\n",
    "та іншого гравця\n",
    "\n",
    "$$\n",
    "B = \\begin{pmatrix}\n",
    "3 & \\underline{5}\\\\\n",
    "0 & \\underline{1}\n",
    "\\end{pmatrix}\n",
    "$$\n",
    "\n",
    "Очевидно, що для кожного гравця найкраща відповідь - це друга стратегія.\n",
    "\n",
    "## Найкращі відповіді в орлянці\n",
    "\n",
    "Розглянемо найкращі відповіді в цій грі \n",
    "\n",
    "$$\n",
    "A = \\begin{pmatrix}\n",
    "\\underline{1} & -1\\\\\n",
    "-1 & \\underline{1}\n",
    "\\end{pmatrix}\\qquad\n",
    "B = \\begin{pmatrix}\n",
    "-1 & \\underline{1}\\\\\n",
    "\\underline{1} & -1\n",
    "\\end{pmatrix}\n",
    "$$\n",
    "\n",
    "Тепер найкращі відповіді суттєво залежать від дій опонента. Тепер припустимо, що гравці використовують змішані стратегії:\n",
    "\n",
    "- Нехай $\\sigma_1=(x,1-x)$\n",
    "- Нехай $\\sigma_2=(y,1-y)$\n",
    "\n",
    "Отримуємо результат:\n",
    "\n",
    "$$\n",
    "A\\sigma_c^T = \\begin{pmatrix}\n",
    "2y-1\\\\\n",
    "1-2y\n",
    "\\end{pmatrix}\\qquad\n",
    "\\sigma_rB = \\begin{pmatrix}\n",
    "1-2x & 2x-1\n",
    "\\end{pmatrix}\n",
    "$$"
   ]
  },
  {
   "cell_type": "code",
   "execution_count": 14,
   "metadata": {},
   "outputs": [
    {
     "data": {
      "text/latex": [
       "$\\displaystyle \\left( \\left[\\begin{matrix}2 y - 1\\\\1 - 2 y\\end{matrix}\\right], \\  \\left[\\begin{matrix}1 - 2 x & 2 x - 1\\end{matrix}\\right]\\right)$"
      ],
      "text/plain": [
       "⎛⎡2⋅y - 1⎤                    ⎞\n",
       "⎜⎢       ⎥, [1 - 2⋅x  2⋅x - 1]⎟\n",
       "⎝⎣1 - 2⋅y⎦                    ⎠"
      ]
     },
     "execution_count": 14,
     "metadata": {},
     "output_type": "execute_result"
    }
   ],
   "source": [
    "import sympy as sym\n",
    "import numpy as np\n",
    "sym.init_printing()\n",
    "\n",
    "x, y = sym.symbols('x, y')\n",
    "A = sym.Matrix([[1, -1], [-1, 1]])\n",
    "B = - A\n",
    "sigma_r = sym.Matrix([[x, 1-x]])\n",
    "sigma_c = sym.Matrix([y, 1-y])\n",
    "A * sigma_c, sigma_r * B\n",
    "\n"
   ]
  },
  {
   "cell_type": "markdown",
   "metadata": {},
   "source": [
    "Ці два вектори є корисностями кожного гравця коли вони грають у відповідь на змішану стратегію суперника одну з своїх чистих стратегій.\n",
    "\n",
    "- $(A\\sigma_c^T)_i$ це виграш гравця 1, коли він грає $i$ проти $\\sigma_c=(y, 1-y)$\n",
    "- $(\\sigma_rB)_j$ це виграш гравця 2, коли він грає $j$ проти $\\sigma_r=(x, 1-x)$\n",
    "\n",
    "Нанесемо їх на графік (використовуючи `matplotlib`):"
   ]
  },
  {
   "cell_type": "code",
   "execution_count": 15,
   "metadata": {},
   "outputs": [
    {
     "data": {
      "image/png": "[encoded data removed]",
      "text/plain": [
       "<Figure size 432x288 with 1 Axes>"
      ]
     },
     "metadata": {
      "needs_background": "light"
     },
     "output_type": "display_data"
    }
   ],
   "source": [
    "import matplotlib\n",
    "import matplotlib.pyplot as plt\n",
    "%matplotlib inline\n",
    "matplotlib.rc(\"savefig\", dpi=100)  \n",
    "\n",
    "ys = [0, 1]\n",
    "row_us = [[(A * sigma_c)[i].subs({y: val}) for val in ys] for i in range(2)]\n",
    "plt.plot(ys, row_us[0], label=\"$(A\\sigma_c^T)_1$\")\n",
    "plt.plot(ys, row_us[1], label=\"$(A\\sigma_c^T)_2$\")\n",
    "plt.xlabel(\"$\\sigma_c=(y, 1-y)$\")\n",
    "plt.title(\"Utility to player 1\")\n",
    "plt.legend();"
   ]
  },
  {
   "cell_type": "markdown",
   "metadata": {},
   "source": [
    "Отже найкращі відповіді на змішані стратегії визначаються наступним чином:\n",
    "\n",
    "$$\n",
    "\\sigma_r^* = \n",
    "\\begin{cases}\n",
    "(1, 0),&\\text{ if } y > 1/2\\\\\n",
    "(0, 1),&\\text{ if } y < 1/2\\\\\n",
    "\\text{indifferent},&\\text{ if } y = 1/2\n",
    "\\end{cases}\n",
    "\\qquad\n",
    "\\sigma_c^* = \n",
    "\\begin{cases}\n",
    "(0, 1),&\\text{ if } x > 1/2\\\\\n",
    "(1, 0),&\\text{ if } x < 1/2\\\\\n",
    "\\text{indifferent},&\\text{ if } x = 1/2\n",
    "\\end{cases}\n",
    "$$\n",
    "\n",
    "В даному випадку ми бачимо, що для кожної заданої стратегії найкраща відповідь це або чиста стратегія або змішана стратегія в випадку, коли виграші від чистих стратегій однакові. \n",
    "\n",
    "Наприклад:\n",
    "\n",
    "- Якщо $\\sigma_c=(1/4, 3/4)$ ($y=1/4$) то найкраща відповідь дорівнює $\\sigma_r^*=(0,1)$\n",
    "- Якщо $\\sigma_c=(1/2, 1/2)$ ($y=1/2$) то будь-яка змішана стратегія - це найкраща відповідь, **але** фактично обидві чисті стратегії дають однаковий виграш (там де лінії перетинаються).\n",
    "\n",
    "\n",
    "---\n",
    "\n",
    "##  Умови найкращої відповіді\n",
    "\n",
    "\n",
    "У грі двох гравців $(A,B)\\in{\\mathbb{R}^{m\\times n}}^2$ змішана стратегія $\\sigma_r^*$  першого гравця є найкращою відповіддю на стратегію другого гравця $\\sigma_c$ ттк:\n",
    "\n",
    "$${\\sigma_r^*}_i > 0 \\Rightarrow (A\\sigma_c^T)_i = \\max_{k}(A\\sigma_c^T)_k\\text{ for all }1\\leq i\\leq m$$\n",
    "\n",
    "### Доведення\n",
    "\n",
    "Нехай $(A\\sigma_c^T)_i$ - це виграш першого гравця, коли він грає свою  $i$-ту стратегію. Тоді:\n",
    "\n",
    "$$\\sigma_rA\\sigma_c^T=\\sum_{i=1}^{m}{\\sigma_r}_i(A\\sigma_c^T)_i$$\n",
    "\n",
    "Нехай $u=\\max_{k}(A\\sigma_c^T)_k$. Тоді:\n",
    "\n",
    "$$\n",
    "\\begin{align}\n",
    "\\sigma_rA\\sigma_c^T&=\\sum_{i=1}^{m}{\\sigma_r}_i(u - u + (A\\sigma_c^T)_i)\\\\\n",
    "                   &=\\sum_{i=1}^{m}{\\sigma_r}_iu - \\sum_{i=1}^{m}{\\sigma_r}_i(u - (A\\sigma_c^T)_i)\\\\\n",
    "                   &=u - \\sum_{i=1}^{m}{\\sigma_r}_i(u - (A\\sigma_c^T)_i)\n",
    "\\end{align}$$\n",
    "\n",
    "Ми знаємо, що $u - (A\\sigma_c^T)_i\\geq 0$, тому найбільше $\\sigma_rA\\sigma_c^T$ можливо для $u$ рівного $(A\\sigma_c^T)_i)$, як і вимагалось довести.\n",
    "\n",
    "---\n",
    "\n",
    "Повертаючись до нашого прикладу. Якщо $\\sigma_c=(1/2, 1/2)$, $(A\\sigma_c^T)=(0, 0)$, то $(A\\sigma_c^T)_i = 0$ для всіх $i$.\n",
    "\n",
    "Зауважимо, що хоча кожна стратегія є найкращою відповіддю на $(1/2, 1/2)$ пара стратегій $(\\sigma_r, \\sigma_c) = ((1/2, 1/2), (1/2, 1/2))$ є єдиною парою стратегій, які найкраща відповідь одна на одну. Цей зв'язок і називають  **Рівновагою Неша**.\n",
    "\n",
    "## Визначення рівноваги Неша\n",
    "\n",
    "В грі двох учасників $(A,B)\\in{\\mathbb{R}^{m\\times n}}^2$, $(\\sigma_r, \\sigma_c)$ є рівновагою Неша якщо  $\\sigma_r$ - найркаща відповідь на $\\sigma_c$ і навпаки."
   ]
  },
  {
   "cell_type": "markdown",
   "metadata": {},
   "source": [
    "## Задачі для роботи в класі\n",
    "\n",
    "1. Two players have 10 euros to divide between themselves. To do so, they use the following procedure: each player names a number of Euros (a non-negative integer), at most equal to 10. If the sum of the two numbers is at most 10 then each player receives the amount of money she names (and the remainder is destroyed). If the sum of the numbers exceeds 10 and the two numbers are different then the player who names the smaller number receives that amount and the other player receives the remaining money. If the sum of the numbers exceeds 10 and the two numbers are equal each player receives 5 Euros. Determine the best-reply correspondence of each player, plot them in a diagram, and find the Nash equilibria of the game.\n",
    "2. Each of two firms has one job opening. Suppose that (for reasons not discussed here but relating to the value of filling each opening) the firms offer different wages: firm 𝑖 offers the wage 𝑤1,where 1 𝑤1 < 𝑤2 < 2𝑤1. Imagine that there are two workers, each of whom can apply to only one firm. 2 The workers simultaneously decide whether to apply to firm 1 or to firm 2. If only one worker applies to a given firm, that worker gets the job; if both workers apply to one firm, the firm hires one worker at random and the other worker is unemployed (which has a payoff of zero).\n",
    "    a. Represent the workers’ normal form game.\n",
    "    b. Solve for the Nash equilibria (in pure strategies) of the game obtained in (a).\n",
    "\n",
    "3. Cops and Robbers: Player 1 is a police officer who must decide whether to patrol the streets or to hang out at the coffee shop. His payoff from hanging out at the coffee shop is 10, while his payoff from patrolling the streets depends on whether he catches a robber, who is player 2. If the robber prowls the streets then the police officer will catch him and obtain a payoff of 20. If the robber stays in his hideaway then the officer’s payoff is 0. The robber must choose between staying hidden or prowling the streets. If he stays hidden then his payoff is 0, while if he prowls the streets his payoff is −10 if the officer is patrolling the streets and 10 if the officer is at the coffee shop.\n",
    "    a. Write down the matrix form of this game.\n",
    "    b. Draw the best-response function of each player.\n",
    "    c. Find the Nash equilibrium of this game. What kind of game does this game remind you of?\n",
    "\n",
    "4. Market Entry: Three firms are considering entering a new market. The payoff for each firm that enters is 150/n , where n is the number of firms that enter. The cost of entering is 62\n",
    "    a. Find all the pure-strategy Nash equilibria.\n",
    "    b. Find the symmetric mixed-strategy equilibrium in which all three players enter with the same probability."
   ]
  },
  {
   "cell_type": "markdown",
   "metadata": {},
   "source": [
    "# Задача про лобіювання"
   ]
  },
  {
   "cell_type": "code",
   "execution_count": 16,
   "metadata": {},
   "outputs": [
    {
     "data": {
      "text/latex": [
       "$\\displaystyle \\left( \\left[\\begin{matrix}20 y - 10\\\\5 y\\end{matrix}\\right], \\  \\left[\\begin{matrix}15 x - 5 & 5 x\\end{matrix}\\right]\\right)$"
      ],
      "text/plain": [
       "⎛⎡20⋅y - 10⎤                 ⎞\n",
       "⎜⎢         ⎥, [15⋅x - 5  5⋅x]⎟\n",
       "⎝⎣   5⋅y   ⎦                 ⎠"
      ]
     },
     "execution_count": 16,
     "metadata": {},
     "output_type": "execute_result"
    }
   ],
   "source": [
    "import sympy as sym\n",
    "import numpy as np\n",
    "sym.init_printing()\n",
    "\n",
    "x, y = sym.symbols('x, y')\n",
    "A = sym.Matrix([[10, -10], [5, 0]])\n",
    "B = sym.Matrix([[10, 5], [-5, 0]])\n",
    "sigma_r = sym.Matrix([[x, 1-x]])\n",
    "sigma_c = sym.Matrix([y, 1-y])\n",
    "A * sigma_c, sigma_r * B\n",
    "\n"
   ]
  },
  {
   "cell_type": "code",
   "execution_count": null,
   "metadata": {},
   "outputs": [],
   "source": []
  }
 ],
 "metadata": {
  "kernelspec": {
   "display_name": "Python 3",
   "language": "python",
   "name": "python3"
  },
  "language_info": {
   "codemirror_mode": {
    "name": "ipython",
    "version": 3
   },
   "file_extension": ".py",
   "mimetype": "text/x-python",
   "name": "python",
   "nbconvert_exporter": "python",
   "pygments_lexer": "ipython3",
   "version": "3.7.4"
  }
 },
 "nbformat": 4,
 "nbformat_minor": 2
}
