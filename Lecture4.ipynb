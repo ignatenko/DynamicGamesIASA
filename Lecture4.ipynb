{
 "cells": [
  {
   "cell_type": "markdown",
   "metadata": {},
   "source": [
    "# Найкраща відповідь\n",
    "\n",
    "---\n",
    "\n",
    "## Визначення найкращої відповіді\n",
    "\n",
    "В грі двох учасників $(A,B)\\in{\\mathbb{R}^{m\\times n}}^2$ змішана стратегія $\\sigma_1^*$  першого гравця є найкращою відповіддю на стратегію другого гравця $\\sigma_2$ iff, якщо:\n",
    "\n",
    "$$\n",
    "\\sigma_1^*=\\text{argmax}_{\\sigma_1\\in S_1}\\sigma_1A\\sigma_2^T.\n",
    "$$\n",
    "\n",
    "Аналогічно, змішана стратегія $\\sigma_2^*$ другого гравця є найкращою відповіддю на стратегію першого гравця $\\sigma_1$ тоді і тільки тоді, коли:\n",
    "\n",
    "$$\n",
    "\\sigma_2^*=\\text{argmax}_{\\sigma_2\\in S_2}\\sigma_1B\\sigma_2^T.\n",
    "$$\n",
    "\n",
    "---\n",
    "\n",
    "Іншими словами: найкраща відповідь максимізує корисність гравця для заданої стратегії іншого гравця.\n",
    "\n",
    "## Найкращі відповіді в Дилемі ув'язеного\n",
    "\n",
    "Розглянемо ДУ:\n",
    "\n",
    "$$\n",
    "A = \\begin{pmatrix}\n",
    "3 & 0\\\\\n",
    "5 & 1\n",
    "\\end{pmatrix}\\qquad\n",
    "B = \\begin{pmatrix}\n",
    "3 & 5\\\\\n",
    "0 & 1\n",
    "\\end{pmatrix}\n",
    "$$\n",
    "\n",
    "знаходимо найкращі відповіді для одного\n",
    "\n",
    "$$\n",
    "A = \\begin{pmatrix}\n",
    "3 & 0\\\\\n",
    "\\underline{5} & \\underline{1}\n",
    "\\end{pmatrix}\n",
    "$$\n",
    "\n",
    "та іншого гравця\n",
    "\n",
    "$$\n",
    "B = \\begin{pmatrix}\n",
    "3 & \\underline{5}\\\\\n",
    "0 & \\underline{1}\n",
    "\\end{pmatrix}\n",
    "$$\n",
    "\n",
    "Очевидно, що для кожного гравця найкраща відповідь - це друга стратегія.\n",
    "\n",
    "## Найкращі відповіді в орлянці\n",
    "\n",
    "Розглянемо найкращі відповіді в цій грі \n",
    "\n",
    "$$\n",
    "A = \\begin{pmatrix}\n",
    "\\underline{1} & -1\\\\\n",
    "-1 & \\underline{1}\n",
    "\\end{pmatrix}\\qquad\n",
    "B = \\begin{pmatrix}\n",
    "-1 & \\underline{1}\\\\\n",
    "\\underline{1} & -1\n",
    "\\end{pmatrix}\n",
    "$$\n",
    "\n",
    "Тепер найкращі відповіді суттєво залежать від дій опонента. Тепер припустимо, що гравці використовують змішані стратегії:\n",
    "\n",
    "- Нехай $\\sigma_1=(x,1-x)$\n",
    "- Нехай $\\sigma_2=(y,1-y)$\n",
    "\n",
    "Отримуємо результат:\n",
    "\n",
    "$$\n",
    "A\\sigma_c^T = \\begin{pmatrix}\n",
    "2y-1\\\\\n",
    "1-2y\n",
    "\\end{pmatrix}\\qquad\n",
    "\\sigma_rB = \\begin{pmatrix}\n",
    "1-2x & 2x-1\n",
    "\\end{pmatrix}\n",
    "$$"
   ]
  },
  {
   "cell_type": "code",
   "execution_count": 1,
   "metadata": {},
   "outputs": [
    {
     "data": {
      "text/latex": [
       "$\\displaystyle \\left( \\left[\\begin{matrix}2 y - 1\\\\1 - 2 y\\end{matrix}\\right], \\  \\left[\\begin{matrix}1 - 2 x & 2 x - 1\\end{matrix}\\right]\\right)$"
      ],
      "text/plain": [
       "⎛⎡2⋅y - 1⎤                    ⎞\n",
       "⎜⎢       ⎥, [1 - 2⋅x  2⋅x - 1]⎟\n",
       "⎝⎣1 - 2⋅y⎦                    ⎠"
      ]
     },
     "execution_count": 1,
     "metadata": {},
     "output_type": "execute_result"
    }
   ],
   "source": [
    "import sympy as sym\n",
    "import numpy as np\n",
    "sym.init_printing()\n",
    "\n",
    "x, y = sym.symbols('x, y')\n",
    "A = sym.Matrix([[1, -1], [-1, 1]])\n",
    "B = - A\n",
    "sigma_r = sym.Matrix([[x, 1-x]])\n",
    "sigma_c = sym.Matrix([y, 1-y])\n",
    "A * sigma_c, sigma_r * B\n"
   ]
  },
  {
   "cell_type": "markdown",
   "metadata": {},
   "source": [
    "Ці два вектори є корисностями кожного гравця коли вони грають у відповідь на змішану стратегію суперника одну з своїх чистих стратегій.\n",
    "\n",
    "- $(A\\sigma_c^T)_i$ це виграш гравця 1, коли він грає $i$ проти $\\sigma_c=(y, 1-y)$\n",
    "- $(\\sigma_rB)_j$ це виграш гравця 2, коли він грає $j$ проти $\\sigma_r=(x, 1-x)$\n",
    "\n",
    "Нанесемо їх на графік (використовуючи `matplotlib`):"
   ]
  },
  {
   "cell_type": "code",
   "execution_count": 2,
   "metadata": {},
   "outputs": [
    {
     "data": {
      "image/png": "[encoded data removed]",
      "text/plain": [
       "<Figure size 432x288 with 1 Axes>"
      ]
     },
     "metadata": {
      "needs_background": "light"
     },
     "output_type": "display_data"
    }
   ],
   "source": [
    "import matplotlib\n",
    "import matplotlib.pyplot as plt\n",
    "%matplotlib inline\n",
    "matplotlib.rc(\"savefig\", dpi=100)  \n",
    "\n",
    "ys = [0, 1]\n",
    "row_us = [[(A * sigma_c)[i].subs({y: val}) for val in ys] for i in range(2)]\n",
    "plt.plot(ys, row_us[0], label=\"$(A\\sigma_c^T)_1$\")\n",
    "plt.plot(ys, row_us[1], label=\"$(A\\sigma_c^T)_2$\")\n",
    "plt.xlabel(\"$\\sigma_c=(y, 1-y)$\")\n",
    "plt.title(\"Utility to player 1\")\n",
    "plt.legend();"
   ]
  },
  {
   "cell_type": "code",
   "execution_count": null,
   "metadata": {},
   "outputs": [],
   "source": []
  },
  {
   "cell_type": "markdown",
   "metadata": {},
   "source": [
    "Отже найкращі відповіді на змішані стратегії визначаються наступним чином:\n",
    "\n",
    "$$\n",
    "\\sigma_r^* = \n",
    "\\begin{cases}\n",
    "(1, 0),&\\text{ if } y > 1/2\\\\\n",
    "(0, 1),&\\text{ if } y < 1/2\\\\\n",
    "\\text{indifferent},&\\text{ if } y = 1/2\n",
    "\\end{cases}\n",
    "\\qquad\n",
    "\\sigma_c^* = \n",
    "\\begin{cases}\n",
    "(0, 1),&\\text{ if } x > 1/2\\\\\n",
    "(1, 0),&\\text{ if } x < 1/2\\\\\n",
    "\\text{indifferent},&\\text{ if } x = 1/2\n",
    "\\end{cases}\n",
    "$$\n",
    "\n",
    "В даному випадку ми бачимо, що для кожної заданої стратегії найкраща відповідь це або чиста стратегія або змішана стратегія в випадку, коли виграші від чистих стратегій однакові. \n",
    "\n",
    "Наприклад:\n",
    "\n",
    "- Якщо $\\sigma_c=(1/4, 3/4)$ ($y=1/4$) то найкраща відповідь дорівнює $\\sigma_r^*=(0,1)$\n",
    "- Якщо $\\sigma_c=(1/2, 1/2)$ ($y=1/2$) то будь-яка змішана стратегія - це найкраща відповідь, **але** фактично обидві чисті стратегії дають однаковий виграш (там де лінії перетинаються).\n",
    "\n",
    "\n",
    "---\n",
    "\n",
    "##  Умови найкращої відповіді\n",
    "\n",
    "\n",
    "У грі двох гравців $(A,B)\\in{\\mathbb{R}^{m\\times n}}^2$ змішана стратегія $\\sigma_r^*$  першого гравця є найкращою відповіддю на стратегію другого гравця $\\sigma_c$ ттк:\n",
    "\n",
    "$${\\sigma_r^*}_i > 0 \\Rightarrow (A\\sigma_c^T)_i = \\max_{k}(A\\sigma_c^T)_k\\text{ for all }1\\leq i\\leq m$$\n",
    "\n",
    "### Доведення\n",
    "\n",
    "Нехай $(A\\sigma_c^T)_i$ - це виграш першого гравця, коли він грає свою  $i$-ту стратегію. Тоді:\n",
    "\n",
    "$$\\sigma_rA\\sigma_c^T=\\sum_{i=1}^{m}{\\sigma_r}_i(A\\sigma_c^T)_i$$\n",
    "\n",
    "Нехай $u=\\max_{k}(A\\sigma_c^T)_k$. Тоді:\n",
    "\n",
    "$$\n",
    "\\begin{align}\n",
    "\\sigma_rA\\sigma_c^T&=\\sum_{i=1}^{m}{\\sigma_r}_i(u - u + (A\\sigma_c^T)_i)\\\\\n",
    "                   &=\\sum_{i=1}^{m}{\\sigma_r}_iu - \\sum_{i=1}^{m}{\\sigma_r}_i(u - (A\\sigma_c^T)_i)\\\\\n",
    "                   &=u - \\sum_{i=1}^{m}{\\sigma_r}_i(u - (A\\sigma_c^T)_i)\n",
    "\\end{align}$$\n",
    "\n",
    "Ми знаємо, що $u - (A\\sigma_c^T)_i\\geq 0$, тому найбільше $\\sigma_rA\\sigma_c^T$ можливо для $u$ рівного $(A\\sigma_c^T)_i)$, як і вимагалось довести.\n",
    "\n",
    "---\n",
    "\n",
    "Повертаючись до нашого прикладу. Якщо $\\sigma_c=(1/2, 1/2)$, $(A\\sigma_c^T)=(0, 0)$, то $(A\\sigma_c^T)_i = 0$ для всіх $i$.\n",
    "\n",
    "Зауважимо, що хоча кожна стратегія є найкращою відповіддю на $(1/2, 1/2)$ пара стратегій $(\\sigma_r, \\sigma_c) = ((1/2, 1/2), (1/2, 1/2))$ є єдиною парою стратегій, які найкраща відповідь одна на одну. Цей зв'язок і називають  **Рівновагою Неша**.\n",
    "\n",
    "## Визначення рівноваги Неша\n",
    "\n",
    "В грі двох учасників $(A,B)\\in{\\mathbb{R}^{m\\times n}}^2$, $(\\sigma_r, \\sigma_c)$ є рівновагою Неша якщо  $\\sigma_r$ - найркаща відповідь на $\\sigma_c$ і навпаки."
   ]
  },
  {
   "cell_type": "markdown",
   "metadata": {},
   "source": [
    "## Задачі для роботи в класі\n",
    "\n",
    "1. Two players have 10 euros to divide between themselves. To do so, they use the following procedure: each player names a number of Euros (a non-negative integer), at most equal to 10. If the sum of the two numbers is at most 10 then each player receives the amount of money she names (and the remainder is destroyed). If the sum of the numbers exceeds 10 and the two numbers are different then the player who names the smaller number receives that amount and the other player receives the remaining money. If the sum of the numbers exceeds 10 and the two numbers are equal each player receives 5 Euros. Determine the best-reply correspondence of each player, plot them in a diagram, and find the Nash equilibria of the game.\n",
    "2. Each of two firms has one job opening. Suppose that (for reasons not discussed here but relating to the value of filling each opening) the firms offer different wages: firm 𝑖 offers the wage 𝑤1,where 1 𝑤1 < 𝑤2 < 2𝑤1. Imagine that there are two workers, each of whom can apply to only one firm. 2 The workers simultaneously decide whether to apply to firm 1 or to firm 2. If only one worker applies to a given firm, that worker gets the job; if both workers apply to one firm, the firm hires one worker at random and the other worker is unemployed (which has a payoff of zero).\n",
    "    a. Represent the workers’ normal form game.\n",
    "    b. Solve for the Nash equilibria (in pure strategies) of the game obtained in (a).\n",
    "3. Cops and Robbers: Player 1 is a police officer who must decide whether to patrol the streets or to hang out at the coffee shop. His payoff from hanging out at the coffee shop is 10, while his payoff from patrolling the streets depends on whether he catches a robber, who is player 2. If the robber prowls the streets then the police officer will catch him and obtain a payoff of 20. If the robber stays in his hideaway then the officer’s payoff is 0. The robber must choose between staying hidden or prowling the streets. If he stays hidden then his payoff is 0, while if he prowls the streets his payoff is −10 if the officer is patrolling the streets and 10 if the officer is at the coffee shop.\n",
    "    a. Write down the matrix form of this game.\n",
    "    b. Draw the best-response function of each player.\n",
    "    c. Find the Nash equilibrium of this game. What kind of game does this game remind you of?\n",
    "4. Market Entry: Three firms are considering entering a new market. The payoff for each firm that enters is 150/n , where n is the number of firms that enter. The cost of entering is 62\n",
    "    a. Find all the pure-strategy Nash equilibria.\n",
    "    b. Find the symmetric mixed-strategy equilibrium in which all three players enter with the same probability."
   ]
  },
  {
   "cell_type": "code",
   "execution_count": 9,
   "metadata": {},
   "outputs": [
    {
     "data": {
      "text/latex": [
       "$\\displaystyle \\left( \\left[\\begin{matrix}20 y - 10\\\\5 y\\end{matrix}\\right], \\  \\left[\\begin{matrix}15 x - 5 & 5 x\\end{matrix}\\right]\\right)$"
      ],
      "text/plain": [
       "⎛⎡20⋅y - 10⎤                 ⎞\n",
       "⎜⎢         ⎥, [15⋅x - 5  5⋅x]⎟\n",
       "⎝⎣   5⋅y   ⎦                 ⎠"
      ]
     },
     "execution_count": 9,
     "metadata": {},
     "output_type": "execute_result"
    }
   ],
   "source": [
    "import sympy as sym\n",
    "import numpy as np\n",
    "sym.init_printing()\n",
    "\n",
    "x, y = sym.symbols('x, y')\n",
    "A = sym.Matrix([[10, -10], [5, 0]])\n",
    "B = sym.Matrix([[10, 5], [-5, 0]])\n",
    "sigma_r = sym.Matrix([[x, 1-x]])\n",
    "sigma_c = sym.Matrix([y, 1-y])\n",
    "A * sigma_c, sigma_r * B\n"
   ]
  },
  {
   "cell_type": "code",
   "execution_count": 18,
   "metadata": {},
   "outputs": [
    {
     "data": {
      "text/latex": [
       "$\\displaystyle \\left[\\begin{matrix}20 y - 10\\\\5 y\\end{matrix}\\right]$"
      ],
      "text/plain": [
       "⎡20⋅y - 10⎤\n",
       "⎢         ⎥\n",
       "⎣   5⋅y   ⎦"
      ]
     },
     "execution_count": 18,
     "metadata": {},
     "output_type": "execute_result"
    },
    {
     "data": {
      "image/png": "[encoded data removed]",
      "text/plain": [
       "<Figure size 432x288 with 1 Axes>"
      ]
     },
     "metadata": {
      "needs_background": "light"
     },
     "output_type": "display_data"
    }
   ],
   "source": [
    "import matplotlib\n",
    "import matplotlib.pyplot as plt\n",
    "%matplotlib inline\n",
    "matplotlib.rc(\"savefig\", dpi=100)  \n",
    "\n",
    "ys = [0, 1]\n",
    "row_us = [[(A * sigma_c)[i].subs({y: val}) for val in ys] for i in range(2)]\n",
    "plt.plot(ys, row_us[0], label=\"$(A\\sigma_c^T)_1$\")\n",
    "plt.plot(ys, row_us[1], label=\"$(A\\sigma_c^T)_2$\")\n",
    "plt.xlabel(\"$\\sigma_c=(y, 1-y)$\")\n",
    "plt.title(\"Utility to player 1\")\n",
    "plt.legend();\n",
    "(A * sigma_c)"
   ]
  },
  {
   "cell_type": "code",
   "execution_count": 24,
   "metadata": {},
   "outputs": [
    {
     "data": {
      "image/png": "[encoded data removed]",
      "text/latex": [
       "$\\displaystyle \\left[ \\left[ -5, \\  10\\right], \\  \\left[ 0, \\  5\\right]\\right]$"
      ],
      "text/plain": [
       "[[-5, 10], [0, 5]]"
      ]
     },
     "execution_count": 24,
     "metadata": {},
     "output_type": "execute_result"
    }
   ],
   "source": [
    "sigma_r * B\n",
    "xs = [0, 1]\n",
    "row_us = [[(sigma_r * B)[i].subs({x: val}) for val in ys] for i in range(2)]\n",
    "row_us"
   ]
  },
  {
   "cell_type": "code",
   "execution_count": 25,
   "metadata": {},
   "outputs": [
    {
     "data": {
      "image/png": "[encoded data removed]",
      "text/plain": [
       "<Figure size 432x288 with 1 Axes>"
      ]
     },
     "metadata": {
      "needs_background": "light"
     },
     "output_type": "display_data"
    }
   ],
   "source": [
    "import matplotlib\n",
    "import matplotlib.pyplot as plt\n",
    "%matplotlib inline\n",
    "matplotlib.rc(\"savefig\", dpi=100)  \n",
    "\n",
    "xs = [0, 1]\n",
    "row_us = [[(sigma_r * B)[i].subs({x: val}) for val in ys] for i in range(2)]\n",
    "plt.plot(xs, row_us[1], label=\"$(A\\sigma_c^T)_1$\")\n",
    "plt.plot(xs, row_us[0], label=\"$(A\\sigma_c^T)_2$\")\n",
    "plt.xlabel(\"$\\sigma_c=(y, 1-y)$\")\n",
    "plt.title(\"Utility to player 1\")\n",
    "plt.legend();"
   ]
  },
  {
   "cell_type": "code",
   "execution_count": 40,
   "metadata": {},
   "outputs": [
    {
     "data": {
      "text/plain": [
       "Zero sum game with payoff matrices:\n",
       "\n",
       "Row player:\n",
       "[[1 -1]\n",
       " [-1 1]]\n",
       "\n",
       "Column player:\n",
       "[[-1 1]\n",
       " [1 -1]]"
      ]
     },
     "execution_count": 40,
     "metadata": {},
     "output_type": "execute_result"
    }
   ],
   "source": [
    "import nashpy as nash\n",
    "A = sym.Matrix([[1, -1], [-1, 1]])\n",
    "B = - A\n",
    "game = nash.Game(A, B)\n",
    "game"
   ]
  },
  {
   "cell_type": "code",
   "execution_count": 44,
   "metadata": {},
   "outputs": [
    {
     "data": {
      "text/plain": [
       "[(array([0.5, 0.5]), array([0.75, 0.25]))]"
      ]
     },
     "execution_count": 44,
     "metadata": {},
     "output_type": "execute_result"
    }
   ],
   "source": [
    "A = np.array([[0.6, 1], [0.8, 0.4]])\n",
    "B = np.array([[0.4, 0], [0.2, 0.6]])\n",
    "game = nash.Game(A, B)\n",
    "list(game.support_enumeration())"
   ]
  },
  {
   "cell_type": "code",
   "execution_count": 38,
   "metadata": {},
   "outputs": [
    {
     "name": "stdout",
     "output_type": "stream",
     "text": [
      "(array([1.00000000000000, 0], dtype=object), array([1.00000000000000, 0], dtype=object))\n",
      "(array([0, 1.00000000000000], dtype=object), array([0, 1.00000000000000], dtype=object))\n",
      "(array([1.00000000000000, 0], dtype=object), array([1.00000000000000, 0], dtype=object))\n",
      "(array([0, 1.00000000000000], dtype=object), array([0, 1.00000000000000], dtype=object))\n"
     ]
    }
   ],
   "source": [
    "game.lemke_howson(initial_dropped_label=0)\n",
    "for eq in game.lemke_howson_enumeration():\n",
    "    print(eq)\n",
    "    "
   ]
  },
  {
   "cell_type": "code",
   "execution_count": null,
   "metadata": {},
   "outputs": [],
   "source": []
  },
  {
   "cell_type": "code",
   "execution_count": null,
   "metadata": {},
   "outputs": [],
   "source": []
  }
 ],
 "metadata": {
  "kernelspec": {
   "display_name": "Python 3",
   "language": "python",
   "name": "python3"
  },
  "language_info": {
   "codemirror_mode": {
    "name": "ipython",
    "version": 3
   },
   "file_extension": ".py",
   "mimetype": "text/x-python",
   "name": "python",
   "nbconvert_exporter": "python",
   "pygments_lexer": "ipython3",
   "version": "3.7.4"
  }
 },
 "nbformat": 4,
 "nbformat_minor": 2
}
